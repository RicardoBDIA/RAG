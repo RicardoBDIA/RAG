{
 "cells": [
  {
   "cell_type": "code",
   "execution_count": 2,
   "metadata": {},
   "outputs": [],
   "source": [
    "import PyPDF2\n",
    "from langchain.text_splitter import RecursiveCharacterTextSplitter\n",
    "from langchain.vectorstores import Chroma\n",
    "from langchain.embeddings import HuggingFaceEmbeddings\n",
    "from langchain.chains import RetrievalQA\n",
    "from langchain_ollama.llms import OllamaLLM\n"
   ]
  },
  {
   "cell_type": "code",
   "execution_count": null,
   "metadata": {},
   "outputs": [],
   "source": [
    "# 1. Función para cargar datos desde un archivo PDF\n",
    "def extract_text_from_pdf(pdf_path):\n",
    "    \"\"\"\n",
    "    Extrae texto de todas las páginas de un archivo PDF.\n",
    "    \n",
    "    Args:\n",
    "        pdf_path (str): Ruta al archivo PDF.\n",
    "        \n",
    "    Returns:\n",
    "        str: Texto combinado de todas las páginas del PDF.\n",
    "    \"\"\"\n",
    "    try:\n",
    "        with open(pdf_path, \"rb\") as file:\n",
    "            reader = PyPDF2.PdfReader(file)\n",
    "            text = \"\"\n",
    "            for page in reader.pages:\n",
    "                text += page.extract_text() + \"\\n\"\n",
    "    except Exception as e:\n",
    "        raise Exception(f\"Error al leer el archivo PDF: {e}\")\n",
    "    \n",
    "    if not text.strip():\n",
    "        raise Exception(\"No se encontró texto significativo en el archivo PDF.\")\n",
    "    \n",
    "    return text.strip()\n",
    "\n",
    "\n",
    "# Ruta al archivo PDF\n",
    "pdf_path = \"./resources/archivo.pdf\"  # Ruta al archivo PDF\n",
    "\n",
    "# Extraer texto del PDF\n",
    "pdf_text = extract_text_from_pdf(pdf_path)\n",
    "print(f\"Texto extraído del PDF (primeros 500 caracteres): {pdf_text[:500]}...\\n\")  # Muestra un resumen del contenido extraído"
   ]
  },
  {
   "cell_type": "code",
   "execution_count": 4,
   "metadata": {},
   "outputs": [
    {
     "name": "stdout",
     "output_type": "stream",
     "text": [
      "Se generaron 2780 fragmentos de texto.\n",
      "\n"
     ]
    }
   ],
   "source": [
    "# 2. Dividir el texto en fragmentos (chunks) con LangChain\n",
    "text_splitter = RecursiveCharacterTextSplitter(chunk_size=500, chunk_overlap=50)\n",
    "chunks = text_splitter.split_text(pdf_text)\n",
    "print(f\"Se generaron {len(chunks)} fragmentos de texto.\\n\")"
   ]
  },
  {
   "cell_type": "code",
   "execution_count": 5,
   "metadata": {},
   "outputs": [
    {
     "name": "stderr",
     "output_type": "stream",
     "text": [
      "/tmp/ipykernel_47004/3721682011.py:2: LangChainDeprecationWarning: The class `HuggingFaceEmbeddings` was deprecated in LangChain 0.2.2 and will be removed in 1.0. An updated version of the class exists in the :class:`~langchain-huggingface package and should be used instead. To use it run `pip install -U :class:`~langchain-huggingface` and import as `from :class:`~langchain_huggingface import HuggingFaceEmbeddings``.\n",
      "  embeddings = HuggingFaceEmbeddings(model_name=\"sentence-transformers/all-MiniLM-L6-v2\")\n"
     ]
    },
    {
     "name": "stdout",
     "output_type": "stream",
     "text": [
      "Base de datos vectorial creada y guardada con 2780 documentos.\n",
      "\n"
     ]
    },
    {
     "name": "stderr",
     "output_type": "stream",
     "text": [
      "/tmp/ipykernel_47004/3721682011.py:13: LangChainDeprecationWarning: Since Chroma 0.4.x the manual persistence method is no longer supported as docs are automatically persisted.\n",
      "  vectorstore.persist()\n"
     ]
    }
   ],
   "source": [
    "# 3. Crear embeddings usando HuggingFace\n",
    "embeddings = HuggingFaceEmbeddings(model_name=\"sentence-transformers/all-MiniLM-L6-v2\")\n",
    "\n",
    "# Crear la base de datos vectorial con Chroma\n",
    "vectorstore = Chroma.from_texts(\n",
    "    texts=chunks,\n",
    "    embedding=embeddings,\n",
    "    collection_name=\"pdf_facts\",\n",
    "    persist_directory=\"chroma_db\"  # Carpeta para guardar la base de datos\n",
    ")\n",
    "\n",
    "# Persistir la base de datos en disco\n",
    "vectorstore.persist()\n",
    "print(f\"Base de datos vectorial creada y guardada con {len(chunks)} documentos.\\n\")\n"
   ]
  },
  {
   "cell_type": "code",
   "execution_count": 6,
   "metadata": {},
   "outputs": [],
   "source": [
    "# 4. Configurar el modelo LLM con Ollama\n",
    "llm = OllamaLLM(model=\"llama3.2\", format=\"json\", server_url=\"http://localhost:11434\")"
   ]
  },
  {
   "cell_type": "code",
   "execution_count": 7,
   "metadata": {},
   "outputs": [],
   "source": [
    "# 5. Crear el sistema RAG con Chroma\n",
    "retriever = vectorstore.as_retriever()\n",
    "qa_chain = RetrievalQA.from_chain_type(\n",
    "    llm=llm,\n",
    "    retriever=retriever\n",
    ")"
   ]
  },
  {
   "cell_type": "code",
   "execution_count": 14,
   "metadata": {},
   "outputs": [],
   "source": [
    "# 6. Hacer preguntas al sistema\n",
    "query = \"¿Cómo está la era de la información?\""
   ]
  },
  {
   "cell_type": "code",
   "execution_count": 15,
   "metadata": {},
   "outputs": [
    {
     "name": "stdout",
     "output_type": "stream",
     "text": [
      "Respuesta a la consulta: {'query': '¿Cómo está la era de la información?', 'result': '{\\n  \"answer\": \"No sé\", \\n  \"rasondo\": \"La pregunta es un párrafo que presenta una perspectiva crítica sobre la Era de la Información, destacando cómo esta revolución tecnológica está socavando las instituciones estatales y liberando oportunidades para los expertos. También menciona la posibilidad de nuevas formas de gobierno emergiendo como resultado de esta transición.\", \\n  \"contexto\": \"El texto proporciona una visión optimista pero crítica sobre el impacto de la Era de la Información en la sociedad, destacando su potencial para cambiar las dinámicas políticas y económicas.\"}'}\n"
     ]
    }
   ],
   "source": [
    "respuesta = qa_chain.invoke({\"query\": query})\n",
    "print(f\"Respuesta a la consulta: {respuesta}\")"
   ]
  }
 ],
 "metadata": {
  "kernelspec": {
   "display_name": "rag",
   "language": "python",
   "name": "python3"
  },
  "language_info": {
   "codemirror_mode": {
    "name": "ipython",
    "version": 3
   },
   "file_extension": ".py",
   "mimetype": "text/x-python",
   "name": "python",
   "nbconvert_exporter": "python",
   "pygments_lexer": "ipython3",
   "version": "3.13.1"
  }
 },
 "nbformat": 4,
 "nbformat_minor": 2
}
