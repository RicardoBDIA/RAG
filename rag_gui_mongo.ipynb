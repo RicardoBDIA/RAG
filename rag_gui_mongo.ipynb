{
 "cells": [
  {
   "cell_type": "code",
   "execution_count": 1,
   "metadata": {},
   "outputs": [],
   "source": [
    "import gradio as gr\n",
    "import PyPDF2\n",
    "import requests\n",
    "from bs4 import BeautifulSoup\n",
    "from langchain.text_splitter import RecursiveCharacterTextSplitter\n",
    "from langchain.vectorstores import Chroma\n",
    "from langchain.embeddings import HuggingFaceEmbeddings\n",
    "from langchain.chains import RetrievalQA\n",
    "from langchain_ollama.llms import OllamaLLM\n",
    "from pymongo import MongoClient\n",
    "import numpy as np\n"
   ]
  },
  {
   "cell_type": "code",
   "execution_count": 2,
   "metadata": {},
   "outputs": [],
   "source": [
    "# --- Funciones auxiliares ---\n",
    "def extract_text_from_pdf(pdf_file):\n",
    "    \"\"\"Extrae texto de un archivo PDF cargado por el usuario.\"\"\"\n",
    "    reader = PyPDF2.PdfReader(pdf_file)\n",
    "    text = \"\"\n",
    "    for page in reader.pages:\n",
    "        text += page.extract_text() + \"\\n\"\n",
    "    return text.strip()\n",
    "\n",
    "\n",
    "def extract_text_from_url(url):\n",
    "    \"\"\"Extrae texto desde una URL usando BeautifulSoup.\"\"\"\n",
    "    try:\n",
    "        response = requests.get(url)\n",
    "        response.raise_for_status()\n",
    "        soup = BeautifulSoup(response.content, \"html.parser\")\n",
    "        paragraphs = soup.find_all(\"p\")\n",
    "        text = \"\\n\".join([para.get_text(strip=True) for para in paragraphs if para.get_text(strip=True)])\n",
    "        return text if text else \"No se encontró texto significativo en la página.\"\n",
    "    except Exception as e:\n",
    "        return f\"Error al acceder a la página: {e}\"\n",
    "\n",
    "\n",
    "def process_text_and_create_db(text, collection_name):\n",
    "    \"\"\"Divide el texto en fragmentos y crea la base de datos vectorial.\"\"\"\n",
    "    text_splitter = RecursiveCharacterTextSplitter(chunk_size=500, chunk_overlap=50)\n",
    "    chunks = text_splitter.split_text(text)\n",
    "\n",
    "    # Crear embeddings\n",
    "    embeddings = HuggingFaceEmbeddings(model_name=\"sentence-transformers/all-MiniLM-L6-v2\")\n",
    "\n",
    "    # Crear base de datos vectorial con Chroma\n",
    "    vectorstore = Chroma.from_texts(\n",
    "        texts=chunks,\n",
    "        embedding=embeddings,\n",
    "        collection_name=collection_name,\n",
    "        persist_directory=\"chroma_db\",\n",
    "    )\n",
    "    vectorstore.persist()\n",
    "\n",
    "    # Guardar embeddings en MongoDB\n",
    "    save_embeddings_to_mongo(zip(embeddings.embed_documents(chunks), chunks), collection_name)\n",
    "\n",
    "    return vectorstore, chunks\n",
    "\n",
    "\n",
    "def query_model(query, vectorstore):\n",
    "    \"\"\"Realiza una consulta al modelo RAG.\"\"\"\n",
    "    llm = OllamaLLM(model=\"llama3.2\", format=\"json\", server_url=\"http://localhost:11434\")\n",
    "    retriever = vectorstore.as_retriever()\n",
    "    qa_chain = RetrievalQA.from_chain_type(llm=llm, retriever=retriever)\n",
    "    response = qa_chain.invoke({\"query\": query})\n",
    "    return response\n",
    "\n",
    "\n",
    "def save_embeddings_to_mongo(embeddings_with_metadata, collection_name):\n",
    "    \"\"\"Guarda los embeddings en MongoDB.\"\"\"\n",
    "    db = client[\"rag_db\"]\n",
    "    collection = db[collection_name]\n",
    "    data = [{\"embedding\": emb.tolist(), \"metadata\": meta} for emb, meta in embeddings_with_metadata]\n",
    "    collection.insert_many(data)\n",
    "    print(\"Embeddings guardados en MongoDB.\")\n",
    "\n",
    "\n",
    "def load_embeddings_from_mongo(collection_name):\n",
    "    \"\"\"Carga los embeddings desde MongoDB.\"\"\"\n",
    "    db = client[\"rag_db\"]\n",
    "    collection = db[collection_name]\n",
    "    cursor = collection.find()\n",
    "    embeddings = [(np.array(doc[\"embedding\"]), doc[\"metadata\"]) for doc in cursor]\n",
    "    return embeddings"
   ]
  },
  {
   "cell_type": "code",
   "execution_count": 3,
   "metadata": {},
   "outputs": [],
   "source": [
    "# --- Funciones principales para Gradio ---\n",
    "def handle_url_input(url):\n",
    "    \"\"\"Procesa la URL ingresada, crea la base de datos y permite consultas.\"\"\"\n",
    "    text = extract_text_from_url(url)\n",
    "    if \"Error\" in text:\n",
    "        return text, None, None\n",
    "\n",
    "    vectorstore, chunks = process_text_and_create_db(text, collection_name=\"web_facts\")\n",
    "    return (\n",
    "        f\"Texto extraído de la URL:\\n\\n{text[:500]}...\\n\\n(Base de datos creada con {len(chunks)} fragmentos)\",\n",
    "        vectorstore,\n",
    "        \"Base de datos lista para consultas. Escribe tu pregunta abajo.\",\n",
    "    )\n",
    "\n",
    "\n",
    "def handle_pdf_input(pdf_file):\n",
    "    \"\"\"Procesa el PDF cargado, crea la base de datos y permite consultas.\"\"\"\n",
    "    text = extract_text_from_pdf(pdf_file)\n",
    "    if not text:\n",
    "        return \"Error: No se pudo extraer texto del archivo PDF.\", None, None\n",
    "\n",
    "    vectorstore, chunks = process_text_and_create_db(text, collection_name=\"pdf_facts\")\n",
    "    return (\n",
    "        f\"Texto extraído del PDF:\\n\\n{text[:500]}...\\n\\n(Base de datos creada con {len(chunks)} fragmentos)\",\n",
    "        vectorstore,\n",
    "        \"Base de datos lista para consultas. Escribe tu pregunta abajo.\",\n",
    "    )\n",
    "\n",
    "\n",
    "def handle_query(query, vectorstore):\n",
    "    \"\"\"Realiza la consulta al modelo usando la base de datos.\"\"\"\n",
    "    if vectorstore is None:\n",
    "        return \"Primero debes procesar una URL o un archivo PDF.\"\n",
    "    return query_model(query, vectorstore)"
   ]
  },
  {
   "cell_type": "code",
   "execution_count": 5,
   "metadata": {},
   "outputs": [],
   "source": [
    "# --- Interfaz Gradio ---\n",
    "with gr.Blocks() as app:\n",
    "    gr.Markdown(\"# 📚 RAG GUI: Consulta datos desde Web o PDFs con modelos LLM\")\n",
    "    gr.Markdown(\"**Selecciona una fuente de datos, procesa el texto y realiza preguntas al sistema RAG.**\")\n",
    "\n",
    "    with gr.Tabs():\n",
    "        # --- Tab para URL ---\n",
    "        with gr.Tab(\"URL (Web)\"):\n",
    "            url_input = gr.Textbox(label=\"Ingresa una URL\")\n",
    "            url_output_text = gr.Textbox(label=\"Texto extraído y detalles de la base de datos\", interactive=False)\n",
    "            url_output_status = gr.Textbox(label=\"Estado de la base de datos\", interactive=False)\n",
    "            url_vectorstore = gr.State(None)  # Almacena el vectorstore para consultas\n",
    "            url_query_input = gr.Textbox(label=\"Haz una pregunta\", placeholder=\"Escribe tu consulta aquí...\")\n",
    "            url_query_output = gr.Textbox(label=\"Respuesta del modelo\", interactive=False)\n",
    "\n",
    "            # Botones\n",
    "            process_url_button = gr.Button(\"Procesar URL\")\n",
    "            process_url_button.click(\n",
    "                handle_url_input, inputs=[url_input], outputs=[url_output_text, url_vectorstore, url_output_status]\n",
    "            )\n",
    "\n",
    "            query_url_button = gr.Button(\"Consultar\")\n",
    "            query_url_button.click(\n",
    "                handle_query, inputs=[url_query_input, url_vectorstore], outputs=[url_query_output]\n",
    "            )\n",
    "\n",
    "        # --- Tab para PDF ---\n",
    "        with gr.Tab(\"PDF\"):\n",
    "            pdf_input = gr.File(label=\"Carga un archivo PDF\", type=\"filepath\")\n",
    "            pdf_output_text = gr.Textbox(label=\"Texto extraído y detalles de la base de datos\", interactive=False)\n",
    "            pdf_output_status = gr.Textbox(label=\"Estado de la base de datos\", interactive=False)\n",
    "            pdf_vectorstore = gr.State(None)  # Almacena el vectorstore para consultas\n",
    "            pdf_query_input = gr.Textbox(label=\"Haz una pregunta\", placeholder=\"Escribe tu consulta aquí...\")\n",
    "            pdf_query_output = gr.Textbox(label=\"Respuesta del modelo\", interactive=False)\n",
    "\n",
    "            # Botones\n",
    "            process_pdf_button = gr.Button(\"Procesar PDF\")\n",
    "            process_pdf_button.click(\n",
    "                handle_pdf_input, inputs=[pdf_input], outputs=[pdf_output_text, pdf_vectorstore, pdf_output_status]\n",
    "            )\n",
    "\n",
    "            query_pdf_button = gr.Button(\"Consultar\")\n",
    "            query_pdf_button.click(\n",
    "                handle_query, inputs=[pdf_query_input, pdf_vectorstore], outputs=[pdf_query_output]\n",
    "            )\n"
   ]
  },
  {
   "cell_type": "code",
   "execution_count": null,
   "metadata": {},
   "outputs": [],
   "source": [
    "# Mongodb\n",
    "mongo_uri = \"mongodb+srv://<username>:<password>@mycluster.xcjpc.mongodb.net/?retryWrites=true&w=majority&appName=Cluster0\"\n",
    "\n",
    "# Conexión al cliente\n",
    "client = MongoClient(mongo_uri)\n",
    "\n",
    "# Acceso a la base de datos y colecciones\n",
    "db = client[\"rag_db\"]\n",
    "web_collection = db[\"web_embeddings\"]\n",
    "pdf_collection = db[\"pdf_embeddings\"]\n",
    "\n",
    "print(\"Conexión exitosa a MongoDB Atlas\")"
   ]
  },
  {
   "cell_type": "code",
   "execution_count": 6,
   "metadata": {},
   "outputs": [
    {
     "name": "stdout",
     "output_type": "stream",
     "text": [
      "* Running on local URL:  http://127.0.0.1:7860\n",
      "\n",
      "To create a public link, set `share=True` in `launch()`.\n"
     ]
    },
    {
     "data": {
      "text/html": [
       "<div><iframe src=\"http://127.0.0.1:7860/\" width=\"100%\" height=\"500\" allow=\"autoplay; camera; microphone; clipboard-read; clipboard-write;\" frameborder=\"0\" allowfullscreen></iframe></div>"
      ],
      "text/plain": [
       "<IPython.core.display.HTML object>"
      ]
     },
     "metadata": {},
     "output_type": "display_data"
    },
    {
     "data": {
      "text/plain": []
     },
     "execution_count": 6,
     "metadata": {},
     "output_type": "execute_result"
    }
   ],
   "source": [
    "# --- Ejecutar la aplicación ---\n",
    "app.launch()"
   ]
  }
 ],
 "metadata": {
  "kernelspec": {
   "display_name": "rag",
   "language": "python",
   "name": "python3"
  },
  "language_info": {
   "codemirror_mode": {
    "name": "ipython",
    "version": 3
   },
   "file_extension": ".py",
   "mimetype": "text/x-python",
   "name": "python",
   "nbconvert_exporter": "python",
   "pygments_lexer": "ipython3",
   "version": "3.13.1"
  }
 },
 "nbformat": 4,
 "nbformat_minor": 2
}
