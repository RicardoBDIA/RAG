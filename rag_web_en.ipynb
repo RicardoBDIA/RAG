{
 "cells": [
  {
   "cell_type": "code",
   "execution_count": 1,
   "metadata": {},
   "outputs": [],
   "source": [
    "import requests\n",
    "from bs4 import BeautifulSoup\n",
    "from langchain.text_splitter import RecursiveCharacterTextSplitter\n",
    "from langchain.vectorstores import Chroma\n",
    "from langchain.embeddings import HuggingFaceEmbeddings\n",
    "from langchain.chains import RetrievalQA\n",
    "from langchain_ollama.llms import OllamaLLM"
   ]
  },
  {
   "cell_type": "code",
   "execution_count": 2,
   "metadata": {},
   "outputs": [],
   "source": [
    "# 1. Cargar datos desde una página web usando BeautifulSoup\n",
    "def extract_text_from_url(url):\n",
    "    response = requests.get(url)\n",
    "    if response.status_code != 200:\n",
    "        raise Exception(f\"Error al acceder a la página: {response.status_code}\")\n",
    "    \n",
    "    # Parseamos el HTML con BeautifulSoup\n",
    "    soup = BeautifulSoup(response.content, 'html.parser')\n",
    "    \n",
    "    # Extraemos el contenido principal (en este caso, todo el texto dentro de <p>)\n",
    "    paragraphs = soup.find_all('p')  \n",
    "    text = \"\\n\".join([para.get_text(strip=True) for para in paragraphs if para.get_text(strip=True)])\n",
    "    \n",
    "    if not text:\n",
    "        raise Exception(\"No se encontró texto significativo en la página.\")\n",
    "    \n",
    "    return text"
   ]
  },
  {
   "cell_type": "code",
   "execution_count": 3,
   "metadata": {},
   "outputs": [
    {
     "name": "stdout",
     "output_type": "stream",
     "text": [
      "Texto extraído de la página: Doctor Whois a Britishscience fiction television seriesbroadcast by theBBCsince 1963. The series, created bySydney Newman,C. E. WebberandDonald Wilson, depicts the adventures of anextraterrestrial beingcalledthe Doctor, part of ahumanoidspecies calledTime Lords. The Doctor travels in the universe and in time using atime travellingspaceshipcalled theTARDIS, which externally appears as a Britishpolice box. While travelling, the Doctor works to save lives and liberateoppressedpeoples by combatingfo...\n",
      "\n"
     ]
    }
   ],
   "source": [
    "# URL de la página web\n",
    "url = \"https://en.wikipedia.org/wiki/Doctor_Who\"\n",
    "\n",
    "# Extraer texto de la página\n",
    "web_text = extract_text_from_url(url)\n",
    "print(f\"Texto extraído de la página: {web_text[:500]}...\\n\")  # Muestra un resumen del contenido extraído"
   ]
  },
  {
   "cell_type": "code",
   "execution_count": 4,
   "metadata": {},
   "outputs": [
    {
     "name": "stdout",
     "output_type": "stream",
     "text": [
      "Se generaron 224 fragmentos de texto.\n",
      "\n"
     ]
    }
   ],
   "source": [
    "# 2. Dividir el texto en fragmentos (chunks) con LangChain\n",
    "text_splitter = RecursiveCharacterTextSplitter(chunk_size=500, chunk_overlap=50)\n",
    "chunks = text_splitter.split_text(web_text)\n",
    "print(f\"Se generaron {len(chunks)} fragmentos de texto.\\n\")\n"
   ]
  },
  {
   "cell_type": "code",
   "execution_count": 5,
   "metadata": {},
   "outputs": [
    {
     "name": "stderr",
     "output_type": "stream",
     "text": [
      "/tmp/ipykernel_38808/549970022.py:2: LangChainDeprecationWarning: The class `HuggingFaceEmbeddings` was deprecated in LangChain 0.2.2 and will be removed in 1.0. An updated version of the class exists in the :class:`~langchain-huggingface package and should be used instead. To use it run `pip install -U :class:`~langchain-huggingface` and import as `from :class:`~langchain_huggingface import HuggingFaceEmbeddings``.\n",
      "  embeddings = HuggingFaceEmbeddings(model_name=\"sentence-transformers/all-MiniLM-L6-v2\")\n"
     ]
    },
    {
     "name": "stdout",
     "output_type": "stream",
     "text": [
      "Base de datos vectorial creada y guardada con 224 documentos.\n",
      "\n"
     ]
    },
    {
     "name": "stderr",
     "output_type": "stream",
     "text": [
      "/tmp/ipykernel_38808/549970022.py:13: LangChainDeprecationWarning: Since Chroma 0.4.x the manual persistence method is no longer supported as docs are automatically persisted.\n",
      "  vectorstore.persist()\n"
     ]
    }
   ],
   "source": [
    "# 3. Crear embeddings usando HuggingFace\n",
    "embeddings = HuggingFaceEmbeddings(model_name=\"sentence-transformers/all-MiniLM-L6-v2\")\n",
    "\n",
    "# Crear la base de datos vectorial con Chroma\n",
    "vectorstore = Chroma.from_texts(\n",
    "    texts=chunks,\n",
    "    embedding=embeddings,\n",
    "    collection_name=\"doctor_who_facts\",\n",
    "    persist_directory=\"chroma_db\"  # Carpeta para guardar la base de datos\n",
    ")\n",
    "\n",
    "# Persistir la base de datos en disco\n",
    "vectorstore.persist()\n",
    "print(f\"Base de datos vectorial creada y guardada con {len(chunks)} documentos.\\n\")"
   ]
  },
  {
   "cell_type": "code",
   "execution_count": 14,
   "metadata": {},
   "outputs": [],
   "source": [
    "# 4. Configurar el modelo LLM con Ollama\n",
    "llm = OllamaLLM(model=\"llama3.2\", format=\"json\", server_url=\"http://localhost:11434\") \n"
   ]
  },
  {
   "cell_type": "code",
   "execution_count": 10,
   "metadata": {},
   "outputs": [],
   "source": [
    "# 5. Crear el sistema RAG con Chroma\n",
    "retriever = vectorstore.as_retriever()\n",
    "qa_chain = RetrievalQA.from_chain_type(\n",
    "    llm=llm,\n",
    "    retriever=retriever\n",
    ")"
   ]
  },
  {
   "cell_type": "code",
   "execution_count": 28,
   "metadata": {},
   "outputs": [],
   "source": [
    "query = \"Who is David Tennant?\""
   ]
  },
  {
   "cell_type": "code",
   "execution_count": 29,
   "metadata": {},
   "outputs": [
    {
     "name": "stdout",
     "output_type": "stream",
     "text": [
      "Respuesta a la consulta: {'query': 'Who is David Tennant?', 'result': '{ \"value\": \"David Tennant played two incarnations of the Doctor, specifically the Tenth and Fourteenth Doctors. He previously played the Tenth Doctor in 2005-2010, and then took over as the Fourteenth Doctor after Jodie Whittaker\\'s final appearance in 2022.\" }'}\n"
     ]
    }
   ],
   "source": [
    "# 6. Hacer preguntas al sistema\n",
    "respuesta = qa_chain.invoke({\"query\": query})\n",
    "print(f\"Respuesta a la consulta: {respuesta}\")"
   ]
  }
 ],
 "metadata": {
  "kernelspec": {
   "display_name": "rag",
   "language": "python",
   "name": "python3"
  },
  "language_info": {
   "codemirror_mode": {
    "name": "ipython",
    "version": 3
   },
   "file_extension": ".py",
   "mimetype": "text/x-python",
   "name": "python",
   "nbconvert_exporter": "python",
   "pygments_lexer": "ipython3",
   "version": "3.13.1"
  }
 },
 "nbformat": 4,
 "nbformat_minor": 2
}
